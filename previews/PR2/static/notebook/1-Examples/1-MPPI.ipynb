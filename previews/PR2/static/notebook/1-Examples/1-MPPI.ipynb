{
 "cells": [
  {
   "outputs": [],
   "cell_type": "code",
   "source": [
    "using LinearAlgebra, Random, Statistics\n",
    "\n",
    "using LyceumBase, LyceumAI, LyceumMuJoCo, UniversalLogger\n",
    "using LyceumBase.Tools\n",
    "using Plots"
   ],
   "metadata": {},
   "execution_count": 1
  },
  {
   "outputs": [],
   "cell_type": "markdown",
   "source": [
    "### Setup"
   ],
   "metadata": {}
  },
  {
   "outputs": [
    {
     "output_type": "execute_result",
     "data": {
      "text/plain": "25"
     },
     "metadata": {},
     "execution_count": 2
    }
   ],
   "cell_type": "code",
   "source": [
    "env = LyceumMuJoCo.PointMass()\n",
    "T = 1000\n",
    "K = 32\n",
    "H = 25"
   ],
   "metadata": {},
   "execution_count": 2
  },
  {
   "outputs": [],
   "cell_type": "markdown",
   "source": [
    "### Logging"
   ],
   "metadata": {}
  },
  {
   "outputs": [
    {
     "output_type": "execute_result",
     "data": {
      "text/plain": "UniversalLogger.ULogger(Dict{Union{String, Symbol},Dict{Union{String, Symbol},PushVectors.PushVector}}(), ReentrantLock(nothing, Base.GenericCondition{Base.Threads.SpinLock}(Base.InvasiveLinkedList{Task}(nothing, nothing), Base.Threads.SpinLock(Base.Threads.Atomic{Int64}(0))), 0))"
     },
     "metadata": {},
     "execution_count": 3
    }
   ],
   "cell_type": "code",
   "source": [
    "exper = Experiment(\"/tmp/pointmass.jlso\", overwrite=true)\n",
    "lg = ULogger()"
   ],
   "metadata": {},
   "execution_count": 3
  },
  {
   "outputs": [],
   "cell_type": "markdown",
   "source": [
    "### MPPI"
   ],
   "metadata": {}
  },
  {
   "outputs": [
    {
     "output_type": "execute_result",
     "data": {
      "text/plain": "LyceumAI.MPPI{Float64,2,LinearAlgebra.Diagonal{Float64,Array{Float64,1}},typeof(LyceumBase.Tools.zerofn),LyceumMuJoCo.PointMass{MJSim,Shapes.MultiShape{Tuple{6},Float64,1,6,(agent_xy_pos = Shapes.Shape{Tuple{2},Float64,1,2}(), agent_xy_vel = Shapes.Shape{Tuple{2},Float64,1,2}(), target_xy_pos = Shapes.Shape{Tuple{2},Float64,1,2}())}},typeof(LyceumAI.default_initfn!),Array{Float64,1}}(32, 25, [1.0e-6 0.0; 0.0 1.0e-6], 0.005, 0.99, LyceumBase.Tools.zerofn, LyceumMuJoCo.PointMass{MJSim,Shapes.MultiShape{Tuple{6},Float64,1,6,(agent_xy_pos = Shapes.Shape{Tuple{2},Float64,1,2}(), agent_xy_vel = Shapes.Shape{Tuple{2},Float64,1,2}(), target_xy_pos = Shapes.Shape{Tuple{2},Float64,1,2}())}}[LyceumMuJoCo.PointMass{MJSim,Shapes.MultiShape{Tuple{6},Float64,1,6,(agent_xy_pos = Shapes.Shape{Tuple{2},Float64,1,2}(), agent_xy_vel = Shapes.Shape{Tuple{2},Float64,1,2}(), target_xy_pos = Shapes.Shape{Tuple{2},Float64,1,2}())}}(MJSim, Shapes.MultiShape{Tuple{6},Float64,1,6,(agent_xy_pos = Shapes.Shape{Tuple{2},Float64,1,2}(), agent_xy_vel = Shapes.Shape{Tuple{2},Float64,1,2}(), target_xy_pos = Shapes.Shape{Tuple{2},Float64,1,2}())}())], LyceumAI.default_initfn!, [0.0 0.0 … 0.0 0.0; 0.0 0.0 … 0.0 0.0]\n\n[0.0 0.0 … 0.0 0.0; 0.0 0.0 … 0.0 0.0]\n\n[0.0 0.0 … 0.0 0.0; 0.0 0.0 … 0.0 0.0]\n\n...\n\n[0.0 0.0 … 0.0 0.0; 0.0 0.0 … 0.0 0.0]\n\n[0.0 0.0 … 0.0 0.0; 0.0 0.0 … 0.0 0.0]\n\n[0.0 0.0 … 0.0 0.0; 0.0 0.0 … 0.0 0.0], [0.001 0.0; 0.0 0.001], [0.0 0.0 … 0.0 0.0; 0.0 0.0 … 0.0 0.0], [0.0, 0.0, 0.0, 0.0, 0.0, 0.0, 0.0, 0.0, 0.0, 0.0  …  0.0, 0.0, 0.0, 0.0, 0.0, 0.0, 0.0, 0.0, 0.0, 0.0], Array{Float64,1}[[0.0, 5.0e-324, 1.0e-323, 1.5e-323, 1.5e-323, 1.0e-323]])"
     },
     "metadata": {},
     "execution_count": 4
    }
   ],
   "cell_type": "code",
   "source": [
    "mppi = MPPI(\n",
    "    sharedmemory_envctor = (i)->sharedmemory_envs(LyceumMuJoCo.PointMass, i),\n",
    "    covar0 = Diagonal(0.001^2*I, size(actionspace(env), 1)),\n",
    "    lambda = 0.005,\n",
    "    K =  K,\n",
    "    H = H,\n",
    "    gamma = 0.99\n",
    ")"
   ],
   "metadata": {},
   "execution_count": 4
  },
  {
   "outputs": [],
   "cell_type": "markdown",
   "source": [
    "### Run"
   ],
   "metadata": {}
  },
  {
   "outputs": [],
   "cell_type": "code",
   "source": [
    "iter = ControllerIterator(mppi, env; T=T, plotiter=100)\n",
    "for (t, traj) in iter\n",
    "end"
   ],
   "metadata": {},
   "execution_count": 5
  },
  {
   "outputs": [],
   "cell_type": "markdown",
   "source": [
    "### Plot results"
   ],
   "metadata": {}
  },
  {
   "outputs": [],
   "cell_type": "code",
   "source": [
    "#plot(iter.trajectory.rewards)"
   ],
   "metadata": {},
   "execution_count": 6
  },
  {
   "outputs": [],
   "cell_type": "markdown",
   "source": [
    "# Save results"
   ],
   "metadata": {}
  },
  {
   "outputs": [
    {
     "name": "stdout",
     "output_type": "stream",
     "text": [
      "┌ Info: Experiment saved to /tmp/pointmass.jlso\n",
      "└ @ LyceumBase.Tools /home/runner/.julia/packages/LyceumBase/DsuUa/src/Tools/experiment.jl:78\n"
     ]
    },
    {
     "output_type": "execute_result",
     "data": {
      "text/plain": "LyceumBase.Tools.Experiment(JLSOFile([evaluations, states, observations, actions, meta, rewards]; version=\"3.0.0\", julia=\"1.3.0\", format=:julia_serialize, compression=:none, image=\"\"), \"/tmp/pointmass.jlso\", true)"
     },
     "metadata": {},
     "execution_count": 7
    }
   ],
   "cell_type": "code",
   "source": [
    "for (k, v) in pairs(iter.trajectory)\n",
    "    exper[k] = v\n",
    "end\n",
    "finish!(exper)"
   ],
   "metadata": {},
   "execution_count": 7
  },
  {
   "outputs": [],
   "cell_type": "markdown",
   "source": [
    "---\n",
    "\n",
    "*This notebook was generated using [Literate.jl](https://github.com/fredrikekre/Literate.jl).*"
   ],
   "metadata": {}
  }
 ],
 "nbformat_minor": 3,
 "metadata": {
  "language_info": {
   "file_extension": ".jl",
   "mimetype": "application/julia",
   "name": "julia",
   "version": "1.3.0"
  },
  "kernelspec": {
   "name": "julia-1.3",
   "display_name": "Julia 1.3.0",
   "language": "julia"
  }
 },
 "nbformat": 4
}
