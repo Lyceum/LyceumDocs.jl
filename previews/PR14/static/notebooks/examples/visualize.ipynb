{
 "cells": [
  {
   "outputs": [],
   "cell_type": "code",
   "source": [
    "using LyceumBase, LyceumAI, MuJoCo, Shapes, FastClosures\n",
    "using LyceumMuJoCo    # We need to bring the Pointmass, Hopper Envs into the workspace\n",
    "using LyceumMuJoCoViz # This provides our visualization needs.\n",
    "using JLSO\n",
    "using FastClosures"
   ],
   "metadata": {},
   "execution_count": null
  },
  {
   "outputs": [],
   "cell_type": "markdown",
   "source": [
    "The following functions present two modes of visualizing results of NPG or MPPI packaged in\n",
    "LyceumAI. They both work by passing into the 'visualize' function a control function\n",
    "and/or trajectory data to be rendered. These inputs select from available visualization modes\n",
    "TODO list the visualiza3tion modes here.\n",
    "that operate on either data passed in (the trajectory option) or will simulate the forward\n",
    "dynamics of the environment, and call the pass in control function appropriately. This\n",
    "allows for interactive policy evaluation or full model predictive control with MPPI."
   ],
   "metadata": {}
  },
  {
   "outputs": [],
   "cell_type": "code",
   "source": [
    "function viz_mppi(mppi::MPPI, env::AbstractMuJoCoEnvironment)\n",
    "    a = allocate(actionspace(env))\n",
    "    o = allocate(obsspace(env))\n",
    "    s = allocate(statespace(env))\n",
    "\n",
    "    ctrlfn = @closure env -> (getstate!(s, env); getaction!(a, s, o, mppi); setaction!(env, a))\n",
    "\n",
    "    # The above line is functionally the same as:\n",
    "    # ctrlfn(env) = begin\n",
    "    #     getstate!(s, env)\n",
    "    #     getaction!(a, s, o, mppi)\n",
    "    #     setaction!(env, a)\n",
    "    # end\n",
    "    visualize(env, controller=ctrlfn)\n",
    "end\n",
    "\n",
    "function viz_policy(path::AbstractString, etype::Union{Nothing, Type{<:AbstractMuJoCoEnvironment}}=nothing)\n",
    "    x = JLSO.load(path)\n",
    "    etype = isnothing(etype) ? x[\"etype\"] : etype\n",
    "    env = etype() # Load the environment based on what was in the JLSO file.\n",
    "\n",
    "    # Check if the JLSO has a policy saved, if so, load it and prepare to render\n",
    "    # the stochastic rollouts of the policy, and form a control function that is the policy's\n",
    "    # mean outputs w.r.t. observations.\n",
    "    # Otherwise, just render states, such as the output of MPPI.\n",
    "    pol = haskey(x, \"policy\") ? x[\"policy\"] : nothing\n",
    "\n",
    "    if pol == nothing\n",
    "        visualize(env; trajectories=[x[\"states\"]])\n",
    "    else\n",
    "        a = allocate(actionspace(env))\n",
    "        o = allocate(obsspace(env))\n",
    "        ctrlfn = @closure (env) -> (getobs!(o, env); a .= pol(o); setaction!(env, a))\n",
    "\n",
    "        states = x[\"stocstates\"].states\n",
    "        visualize(env, controller=ctrlfn, trajectories=states)\n",
    "    end\n",
    "end"
   ],
   "metadata": {},
   "execution_count": null
  },
  {
   "outputs": [],
   "cell_type": "markdown",
   "source": [
    "Assuming we have the saved jlso files from the previous examples, we can call the above functions as such:"
   ],
   "metadata": {}
  },
  {
   "outputs": [],
   "cell_type": "markdown",
   "source": [
    "TODO the following lines are bullshit; don't run on build, add to md scripts and notebook"
   ],
   "metadata": {}
  },
  {
   "outputs": [],
   "cell_type": "markdown",
   "source": [
    "---\n",
    "\n",
    "*This notebook was generated using [Literate.jl](https://github.com/fredrikekre/Literate.jl).*"
   ],
   "metadata": {}
  }
 ],
 "nbformat_minor": 3,
 "metadata": {
  "language_info": {
   "file_extension": ".jl",
   "mimetype": "application/julia",
   "name": "julia",
   "version": "1.3.0"
  },
  "kernelspec": {
   "name": "julia-1.3",
   "display_name": "Julia 1.3.0",
   "language": "julia"
  }
 },
 "nbformat": 4
}
