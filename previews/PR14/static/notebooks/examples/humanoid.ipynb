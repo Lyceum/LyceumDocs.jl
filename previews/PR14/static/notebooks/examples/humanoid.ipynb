{
 "cells": [
  {
   "outputs": [],
   "cell_type": "markdown",
   "source": [
    "## Overview"
   ],
   "metadata": {}
  },
  {
   "outputs": [],
   "cell_type": "markdown",
   "source": [
    "Using LyceumMuJoCo, we will create the environment for a Humanoid \"get-up\" task\n",
    "that mostly relies on the defaults of LyceumBase and LyceumMuJoCo to\n",
    "propagate state, action, and observation data. We will have to implement reward\n",
    "and evaluation functions, of course, along with a few other parts of the\n",
    "`AbstractEnvironment` interface."
   ],
   "metadata": {}
  },
  {
   "outputs": [],
   "cell_type": "markdown",
   "source": [
    "We then solve the \"get-up\" task using a Model-Predictive Control method called\n",
    "[\"Model Predictive Path Integral Control\"](https://ieeexplore.ieee.org/iel7/7478842/7487087/07487277.pdf)\n",
    "or MPPI, walking through how to log experiment data and plot the results."
   ],
   "metadata": {}
  },
  {
   "outputs": [],
   "cell_type": "markdown",
   "source": [
    "## The Code"
   ],
   "metadata": {}
  },
  {
   "outputs": [],
   "cell_type": "markdown",
   "source": [
    "First we grab our dependencies of the Lyceum ecosystem and other helpful packages."
   ],
   "metadata": {}
  },
  {
   "outputs": [],
   "cell_type": "code",
   "source": [
    "using LinearAlgebra, Random, Statistics\n",
    "using Plots, UnicodePlots, JLSO\n",
    "using LyceumBase, LyceumBase.Tools, LyceumAI, LyceumMuJoCo, MuJoCo, UniversalLogger, Shapes"
   ],
   "metadata": {},
   "execution_count": null
  },
  {
   "outputs": [],
   "cell_type": "markdown",
   "source": [
    "This struct is our primary entry into the environment API. Environments utilizing\n",
    "the MuJoCo simulator through LyceumMuJoCo should subtype\n",
    "`AbstractMuJoCoEnvironment <: AbstractEnvironment`. As you can see, this simple\n",
    "example only wraps around the underlying simulator (the `sim::MJSim` field of `Humanoid`,\n",
    "referred to hereafter as just `sim`). The functions of the LyceumBase API will then\n",
    "dispatch on this struct through Julia's [multiple dispatch](https://en.wikipedia.org/wiki/Multiple_dispatch)\n",
    "mechanism. When an algorithm calls a function such as `getobs!(obs, env)`, Julia will select from\n",
    "all functions with that name depending on `typeof(obs)` and `typeof(env)`."
   ],
   "metadata": {}
  },
  {
   "outputs": [],
   "cell_type": "code",
   "source": [
    "struct Humanoid{S <: MJSim} <: AbstractMuJoCoEnvironment\n",
    "    sim::S\n",
    "end\n",
    "\n",
    "LyceumMuJoCo.getsim(env::Humanoid) = env.sim #src (needs to be here for below example to work)"
   ],
   "metadata": {},
   "execution_count": null
  },
  {
   "outputs": [],
   "cell_type": "markdown",
   "source": [
    "`Humanoid` (and all subtypes of `AbstractEnvironment`) are designed to be used in a single\n",
    "threaded context. To use `Humanoid` in a multi-threaded context, one could simply create\n",
    "`Threads.nthreads()` instances of `Humanoid`:"
   ],
   "metadata": {}
  },
  {
   "outputs": [],
   "cell_type": "code",
   "source": [
    "modelpath = joinpath(@__DIR__, \"humanoid.xml\")\n",
    "envs = [Humanoid(MJSim(modelpath, skip = 2)) for i=1:Threads.nthreads()]\n",
    "Threads.@threads for i=1:Threads.nthreads()\n",
    "    thread_env = envs[Threads.threadid()]\n",
    "    step!(thread_env)\n",
    "end"
   ],
   "metadata": {},
   "execution_count": null
  },
  {
   "outputs": [],
   "cell_type": "markdown",
   "source": [
    "As `Humanoid` only ever uses its internal `jlModel` (found at `sim.m`) in a read-only\n",
    "fashion, we can make a performance optimization by sharing a single instance of `jlModel`\n",
    "across each thread, resulting in improved cache efficiency. `LyceumMuJoCo.tconstruct`,\n",
    "short for \"thread construct\", helps us to do just that by providing a common interface\n",
    "for defining \"thread-aware\" constructors. Below, we make a call to\n",
    "`tconstruct(MJSim, n, modelpath, skip = 2)` which will construct `n` instances of `MJSim`\n",
    "constructed from `modelpath` and with a `skip` of 2, all sharing the exact same `jlModel`\n",
    "instance, and return `n` instances of `Humanoid`. All of the environments provided by\n",
    "LyceumMuJoCo feature similar definitions of `tconstruct` as found below."
   ],
   "metadata": {}
  },
  {
   "outputs": [],
   "cell_type": "code",
   "source": [
    "Humanoid() = first(tconstruct(Humanoid, 1))\n",
    "function LyceumMuJoCo.tconstruct(::Type{Humanoid}, n::Integer)\n",
    "    modelpath = joinpath(@__DIR__, \"humanoid.xml\")\n",
    "    return Tuple(Humanoid(s) for s in tconstruct(MJSim, n, modelpath, skip = 2))\n",
    "end"
   ],
   "metadata": {},
   "execution_count": null
  },
  {
   "outputs": [],
   "cell_type": "markdown",
   "source": [
    "We can then use `tconstruct` as follows:"
   ],
   "metadata": {}
  },
  {
   "outputs": [],
   "cell_type": "code",
   "source": [
    "envs = tconstruct(Humanoid, Threads.nthreads())\n",
    "Threads.@threads for i=1:Threads.nthreads()\n",
    "    thread_env = envs[Threads.threadid()]\n",
    "    step!(thread_env)\n",
    "end"
   ],
   "metadata": {},
   "execution_count": null
  },
  {
   "outputs": [],
   "cell_type": "markdown",
   "source": [
    "The following are helpers for the \"get-up\" task we'd like to consider.\n",
    "We want the humanoid to stand up, thus we need to grab the model's height, as\n",
    "well as record a laying down position that we can use to set the state to.\n",
    "By exploring the model in the REPL or MJCF/XML file we can see that `sim.d.qpos[3]`\n",
    "is the index for the z-axis (height) of the root joint. The `LAYING_QPOS` data was\n",
    "collected externally by posing the model into a supine pose; one can either use\n",
    "LyceumMuJoCoViz or simulate.cpp included with a MuJoCo release to do this."
   ],
   "metadata": {}
  },
  {
   "outputs": [],
   "cell_type": "code",
   "source": [
    "_getheight(shapedstate::ShapedView, ::Humanoid) = shapedstate.qpos[3]\n",
    "const LAYING_QPOS = [\n",
    "    -0.164158,\n",
    "    0.0265899,\n",
    "    0.101116,\n",
    "    0.684044,\n",
    "    -0.160277,\n",
    "    -0.70823,\n",
    "    -0.0693176,\n",
    "    -0.1321,\n",
    "    0.0203937,\n",
    "    0.298099,\n",
    "    0.0873523,\n",
    "    0.00634907,\n",
    "    0.117343,\n",
    "    -0.0320319,\n",
    "    -0.619764,\n",
    "    0.0204114,\n",
    "    -0.157038,\n",
    "    0.0512385,\n",
    "    0.115817,\n",
    "    -0.0320437,\n",
    "    -0.617078,\n",
    "    -0.00153819,\n",
    "    0.13926,\n",
    "    -1.01785,\n",
    "    -1.57189,\n",
    "    -0.0914509,\n",
    "    0.708539,\n",
    "    -1.57187,\n",
    "];"
   ],
   "metadata": {},
   "execution_count": null
  },
  {
   "outputs": [],
   "cell_type": "markdown",
   "source": [
    "LyceumMuJoCo requires access to the underlying `MJSim` simulator, thus any LyceumMuJoCo\n",
    "environments need to point to the correct field in the environment struct that is the\n",
    "simulator; in our case there's only one field: `sim`."
   ],
   "metadata": {}
  },
  {
   "outputs": [],
   "cell_type": "code",
   "source": [
    "LyceumMuJoCo.getsim(env::Humanoid) = env.sim"
   ],
   "metadata": {},
   "execution_count": null
  },
  {
   "outputs": [],
   "cell_type": "markdown",
   "source": [
    "Normally we could rely on MuJoCo to reset the model to the default configuration when the\n",
    "model XML is loaded; the humanoid.xml model, however, defaults to a vertical pose. To\n",
    "reset the model to our laying down or supine pose, we can copy in the data from\n",
    "`LAYING_QPOS` above to `d.qpos`. Calling `forward!` here is the same as\n",
    "`mj_forward(env.sim.m, env.sim.d)`, for a pure MuJoCo reference."
   ],
   "metadata": {}
  },
  {
   "outputs": [],
   "cell_type": "code",
   "source": [
    "function LyceumMuJoCo.reset!(env::Humanoid)\n",
    "    reset!(env.sim)\n",
    "    env.sim.d.qpos .= LAYING_QPOS\n",
    "    forward!(env.sim)\n",
    "    return env\n",
    "end"
   ],
   "metadata": {},
   "execution_count": null
  },
  {
   "outputs": [],
   "cell_type": "markdown",
   "source": [
    "This reward function uses the `_getheight` helper function above to get the model's\n",
    "height when the function is called. We also specify a target height of 1.25 and\n",
    "penalize the agent for deviating from the target height. There is also a small penalty\n",
    "for using large control activations; if the coefficient is made larger, the agent\n",
    "may not move at all!"
   ],
   "metadata": {}
  },
  {
   "outputs": [],
   "cell_type": "code",
   "source": [
    "function LyceumMuJoCo.getreward(state, action, obs, env::Humanoid)\n",
    "    height = _getheight(statespace(env)(state), env)\n",
    "    target = 1.25\n",
    "    reward = 1.0\n",
    "    if height < target\n",
    "        reward -= 2.0 * abs(target - height)\n",
    "    end\n",
    "    reward -= 1e-3 * norm(action)^2\n",
    "\n",
    "    return reward\n",
    "end"
   ],
   "metadata": {},
   "execution_count": null
  },
  {
   "outputs": [],
   "cell_type": "markdown",
   "source": [
    "Finally, we can specify an evaluation function. The difference between `geteval` and\n",
    "`getreward` is that `getreward` is the shaped reward our algorithm is optimizing for,\n",
    "while `geteval` lets us track a useful value for monitoring performance, such as height.\n",
    "Plotting this eval function will show the agent's height over time and is very useful\n",
    "for reviewing actual desired behavior, regardless of the reward achieved, as it can be\n",
    "used to diagnose reward specification problems."
   ],
   "metadata": {}
  },
  {
   "outputs": [],
   "cell_type": "code",
   "source": [
    "function LyceumMuJoCo.geteval(state, action, obs, env::Humanoid)\n",
    "    return _getheight(statespace(env)(state), env)\n",
    "end"
   ],
   "metadata": {},
   "execution_count": null
  },
  {
   "outputs": [],
   "cell_type": "markdown",
   "source": [
    "As discussed in the [Julia performance tips](https://docs.julialang.org/en/v1/manual/performance-tips/),\n",
    "globals can hinder performance. To avoid this, we construct the `MPPI` and\n",
    "`ControllerIterator` instances within a function. This also lets us easily run our\n",
    "experiment with different choices of parameters (e.g. `H`). Like most algorithms in\n",
    "`LyceumAI`, `MPPI` accepts a \"thread-aware\" environment constructor as well as any\n",
    "algorithm parameters. In this case, we just pass a closure around the `tconstruct`\n",
    "function we defined above. `MPPI`, being a single-step algorithm, is itself not iterable,\n",
    "so we wrap it in a `ControllerIterator` which simply calls\n",
    "`getaction!(action, state, obs, mppi::MPPI)` for `T` timesteps, while simultaneously\n",
    "plotting and logging the trajectory rollout."
   ],
   "metadata": {}
  },
  {
   "outputs": [],
   "cell_type": "code",
   "source": [
    "function humanoid_MPPI(etype = Humanoid; T = 200, H = 64, K = 64)\n",
    "    env = etype()\n",
    "\n",
    "    # The following parameters work well for this get-up task, and may work for\n",
    "    # similar tasks, but are not invariant to the model.\n",
    "    mppi = MPPI(\n",
    "        env_tconstructor = n -> tconstruct(etype, n),\n",
    "        covar0 = Diagonal(0.05^2 * I, size(actionspace(env), 1)),\n",
    "        lambda = 0.4,\n",
    "        H = H,\n",
    "        K = K,\n",
    "        gamma = 1.0,\n",
    "    )\n",
    "\n",
    "    iter = ControllerIterator(mppi, env; T = T, plotiter = div(T, 10))\n",
    "\n",
    "    # We can time the following loop; if it ends up less than the time the\n",
    "    # MuJoCo models integrated forward in, then one could conceivably run this\n",
    "    # MPPI MPC controller interactively...\n",
    "    elapsed = @elapsed for (t, traj) in iter\n",
    "        # If desired, one can inspect `traj`, `env`, or `mppi` at each timestep.\n",
    "    end\n",
    "\n",
    "    if elapsed < time(env)\n",
    "        @info \"We ran in real time!\"\n",
    "    end\n",
    "\n",
    "    # Save our experiment results to a file for later review.\n",
    "    savepath = \"/tmp/opt_humanoid.jlso\"\n",
    "    exper = Experiment(savepath, overwrite = true)\n",
    "    exper[:etype] = etype\n",
    "\n",
    "    for (k, v) in pairs(iter.trajectory)\n",
    "        exper[k] = v\n",
    "    end\n",
    "    finish!(exper)\n",
    "\n",
    "    return mppi, env, iter.trajectory\n",
    "end"
   ],
   "metadata": {},
   "execution_count": null
  },
  {
   "outputs": [],
   "cell_type": "markdown",
   "source": [
    "The MPPI algorithm, and any that you develop, can and should use plotting tools\n",
    "to track progress as they go."
   ],
   "metadata": {}
  },
  {
   "outputs": [],
   "cell_type": "code",
   "source": [
    "mppi, env, traj = humanoid_MPPI();\n",
    "plot!(\n",
    "    plot(traj.rewards, label = \"Inst. Reward\", title = \"Humanoid Standup\"),\n",
    "    traj.evaluations,\n",
    "    label = \"Evaluation\",\n",
    "    legend = :bottomright\n",
    ")"
   ],
   "metadata": {},
   "execution_count": null
  },
  {
   "outputs": [],
   "cell_type": "markdown",
   "source": [
    "If one wanted to review the results after training, or prepare plots for presentations,\n",
    "one can load the data from disk instead."
   ],
   "metadata": {}
  },
  {
   "outputs": [],
   "cell_type": "code",
   "source": [
    "data = JLSO.load(\"/tmp/opt_humanoid.jlso\")\n",
    "plot!(\n",
    "    plot(data[\"rewards\"], label = \"Inst. Reward\", title = \"Humanoid Standup\"),\n",
    "    data[\"evaluations\"],\n",
    "    label = \"Evaluation\",\n",
    "    legend = :bottomright\n",
    ")"
   ],
   "metadata": {},
   "execution_count": null
  },
  {
   "outputs": [],
   "cell_type": "markdown",
   "source": [
    "---\n",
    "\n",
    "*This notebook was generated using [Literate.jl](https://github.com/fredrikekre/Literate.jl).*"
   ],
   "metadata": {}
  }
 ],
 "nbformat_minor": 3,
 "metadata": {
  "language_info": {
   "file_extension": ".jl",
   "mimetype": "application/julia",
   "name": "julia",
   "version": "1.3.0"
  },
  "kernelspec": {
   "name": "julia-1.3",
   "display_name": "Julia 1.3.0",
   "language": "julia"
  }
 },
 "nbformat": 4
}
