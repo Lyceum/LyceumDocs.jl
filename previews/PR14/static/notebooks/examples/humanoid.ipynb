{
 "cells": [
  {
   "outputs": [],
   "cell_type": "markdown",
   "source": [
    "Using Mujoco, we can create an environment that mostly relies on the defaults of\n",
    "LyceumBase and LyceumMuJoCo to propagate state, action, and observation data.\n",
    "We will have to include a reward and evaluation function, of course, and also show\n",
    "how the functions can be customized for different tasks."
   ],
   "metadata": {}
  },
  {
   "outputs": [],
   "cell_type": "markdown",
   "source": [
    "First we grab our dependencies of the Lyceum ecosystem and other helpful packages"
   ],
   "metadata": {}
  },
  {
   "outputs": [],
   "cell_type": "code",
   "source": [
    "using LinearAlgebra, Random, Statistics, UnicodePlots, JLSO\n",
    "using LyceumBase, LyceumAI, LyceumMuJoCo, MuJoCo, UniversalLogger, Shapes\n",
    "using LyceumBase.Tools\n",
    "using Shapes: AbstractVectorShape\n",
    "import LyceumBase: tconstruct\n",
    "using Plots"
   ],
   "metadata": {},
   "execution_count": null
  },
  {
   "outputs": [],
   "cell_type": "markdown",
   "source": [
    "This struct is our primary entry into the environment API. As you can see, this simple\n",
    "example only wraps around the underlying simulator. The functions of the LyceumBase\n",
    "API will dispatch on this struct. When an algorithm calls a function such as `getobs!`,\n",
    "Julia will select from all functions with that name depending on the _type_ of environment\n",
    "that is passed in."
   ],
   "metadata": {}
  },
  {
   "outputs": [],
   "cell_type": "code",
   "source": [
    "struct Humanoid{S} <: AbstractMuJoCoEnvironment\n",
    "    sim::S\n",
    "end"
   ],
   "metadata": {},
   "execution_count": null
  },
  {
   "outputs": [],
   "cell_type": "markdown",
   "source": [
    "`Humanoid` (and all subtypes of `AbstractEnvironment`) are designed to be used in a single\n",
    "threaded context. To use `Humanoid`, one would simply create `Threads.nthreads()` instances of\n",
    "`Humanoid`. As `Humanoid` only ever uses `jlModel` in a read-only fashion, we can make a\n",
    "performance optimization by sharing a single instance of `jlModel` across each thread, resulting in\n",
    "improved cache efficiency. `LyceumMuJoCo.tconstruct` helps us to do just that by providing a common\n",
    "interface for defining \"thread-aware\" constructors. Below, we make a call to\n",
    "`tconstruct(MJSim, n, modelpath, skip = 2)` which will construct `n` instances of `MJSim` constructed\n",
    "from `modelpath` and with a `skip` of 2, all sharing the exact same `jlModel` instance."
   ],
   "metadata": {}
  },
  {
   "outputs": [],
   "cell_type": "code",
   "source": [
    "Humanoid() = first(tconstruct(Humanoid, 1))\n",
    "function LyceumMuJoCo.tconstruct(::Type{Humanoid}, n::Integer)\n",
    "    modelpath = joinpath(@__DIR__, \"humanoid.xml\")\n",
    "    Tuple(Humanoid(s) for s in tconstruct(MJSim, n, modelpath, skip = 2))\n",
    "end;"
   ],
   "metadata": {},
   "execution_count": null
  },
  {
   "outputs": [],
   "cell_type": "markdown",
   "source": [
    "The following are helpers for the tasks we'd like to consider. We want the humanoid\n",
    "to stand up, thus we need to grab the model's height, as well as record a laying down\n",
    "position that we can use to set the state to. By exploring the model in the REPL or xml\n",
    "we can see that qpos[3] is the index for the z-axis (height) of the root joint.\n",
    "The `LAYING_QPOS` data was collected externally by posing the model into a supine pose;\n",
    "one can either use LyceumMuJoCoViz.jl or `simulate.cpp` included with a MuJoCo release to do this."
   ],
   "metadata": {}
  },
  {
   "outputs": [],
   "cell_type": "code",
   "source": [
    "_getheight(shapedstate::ShapedView, ::Humanoid) = shapedstate.qpos[3]\n",
    "const LAYING_QPOS = [\n",
    "    -0.164158,\n",
    "    0.0265899,\n",
    "    0.101116,\n",
    "    0.684044,\n",
    "    -0.160277,\n",
    "    -0.70823,\n",
    "    -0.0693176,\n",
    "    -0.1321,\n",
    "    0.0203937,\n",
    "    0.298099,\n",
    "    0.0873523,\n",
    "    0.00634907,\n",
    "    0.117343,\n",
    "    -0.0320319,\n",
    "    -0.619764,\n",
    "    0.0204114,\n",
    "    -0.157038,\n",
    "    0.0512385,\n",
    "    0.115817,\n",
    "    -0.0320437,\n",
    "    -0.617078,\n",
    "    -0.00153819,\n",
    "    0.13926,\n",
    "    -1.01785,\n",
    "    -1.57189,\n",
    "    -0.0914509,\n",
    "    0.708539,\n",
    "    -1.57187,\n",
    "];"
   ],
   "metadata": {},
   "execution_count": null
  },
  {
   "outputs": [],
   "cell_type": "markdown",
   "source": [
    "LyceumMuJoCo requires access to the underlying `MJSim` simulator, thus any LyceumMuJoCo environments\n",
    "need to point to the correct field in the env struct that is the simulator; in our case\n",
    "there's only one field."
   ],
   "metadata": {}
  },
  {
   "outputs": [],
   "cell_type": "code",
   "source": [
    "LyceumMuJoCo.getsim(env::Humanoid) = env.sim"
   ],
   "metadata": {},
   "execution_count": null
  },
  {
   "outputs": [],
   "cell_type": "markdown",
   "source": [
    "Normally we could rely on MuJoCo to reset the model to the default configuration when the\n",
    "model XML is loaded; in humanoid.xml's case, it is in a vertical position. To reset the model\n",
    "to our laying down or supine pose, we can copy in the data from the const array above to `d.qpos`.\n",
    "Calling `forward!` here is the same as `mj_forward(m,d)`, for a pure MuJoCo reference."
   ],
   "metadata": {}
  },
  {
   "outputs": [],
   "cell_type": "code",
   "source": [
    "function LyceumMuJoCo.reset!(env::Humanoid)\n",
    "    reset!(env.sim)\n",
    "    env.sim.d.qpos .= LAYING_QPOS\n",
    "    forward!(env.sim)\n",
    "    env\n",
    "end"
   ],
   "metadata": {},
   "execution_count": null
  },
  {
   "outputs": [],
   "cell_type": "markdown",
   "source": [
    "This reward function uses the `_getheight` helper function above to get the model's height\n",
    "when the function is called. We also specify a target height of 1.25, and penalize the agent\n",
    "for deviating from the target height. There is also a small penalty for using large control\n",
    "activations; if the coefficient is made larger, the agent may not move at all!"
   ],
   "metadata": {}
  },
  {
   "outputs": [],
   "cell_type": "code",
   "source": [
    "function LyceumMuJoCo.getreward(state, action, obs, env::Humanoid)\n",
    "    height = _getheight(statespace(env)(state), env)\n",
    "    target = 1.25\n",
    "\n",
    "    reward = 1.0\n",
    "    if height < target\n",
    "        reward -= 2.0 * abs(target - height)\n",
    "    end\n",
    "\n",
    "    reward -= 1e-3 * norm(action)^2\n",
    "\n",
    "    return reward\n",
    "end"
   ],
   "metadata": {},
   "execution_count": null
  },
  {
   "outputs": [],
   "cell_type": "markdown",
   "source": [
    "Finally, we can specify an evaluation function. The difference between the eval and reward\n",
    "functions are that we can track a useful value, such as height with `geteval`, but an algorithm\n",
    "like MPPI or NPG may need a shaped function to guide any optimization. Plotting this eval function\n",
    "will show the agent's height over time: this is very useful for reviewing actual desired behavior,\n",
    "regardless of the reward achieved, as it can be used to diagnose reward specification problems."
   ],
   "metadata": {}
  },
  {
   "outputs": [],
   "cell_type": "code",
   "source": [
    "function LyceumMuJoCo.geteval(state, action, obs, env::Humanoid)\n",
    "    return _getheight(statespace(env)(state), env)\n",
    "end"
   ],
   "metadata": {},
   "execution_count": null
  },
  {
   "outputs": [],
   "cell_type": "markdown",
   "source": [
    "As discussed in the [Julia performance tips](https://docs.julialang.org/en/v1/manual/performance-tips/),\n",
    "globals can hinder performance. To avoid this, we construct the `MPPI` and `ControllerIterator` instances\n",
    "within a function. This also lets us easily run our experiment with different choices of parameters (e.g. `H`).\n",
    "Like most algorithms in `LyceumAI`, `MPPI` accepts a `thread-aware` environment constructor as well as any algorithm parameters.\n",
    "`MPPI` itself is not iterable, so we wrap it in `ControllerIterator` which simple calls `getaction!(action, state, obs, mppi::MPPI)`\n",
    "for `T` timesteps, while simultaneously plotting and logging the trajectory rollout."
   ],
   "metadata": {}
  },
  {
   "outputs": [],
   "cell_type": "code",
   "source": [
    "function hmMPPI(etype = Humanoid; T = 200, H = 64, K = 64)\n",
    "    env = etype()\n",
    "\n",
    "    # The following parameters work well for this get-up tasks, and make work for\n",
    "    # other similar tasks, but are not invariant to the model.\n",
    "    mppi = MPPI(\n",
    "        env_tconstructor = i -> tconstruct(etype, i),\n",
    "        covar0 = Diagonal(0.05^2 * I, size(actionspace(env), 1)),\n",
    "        lambda = 0.4,\n",
    "        H = H,\n",
    "        K = K,\n",
    "        gamma = 1.0,\n",
    "    )\n",
    "\n",
    "    iter = ControllerIterator(mppi, env; T = T, plotiter = div(T, 10))\n",
    "    # We can time the following loop; if it ends up less than the time the\n",
    "    # MuJoCo models integrated forward in, then one could conceivably run this\n",
    "    # MPPI MPC controller interactively...\n",
    "    @time for (t, traj) in iter"
   ],
   "metadata": {},
   "execution_count": null
  },
  {
   "outputs": [],
   "cell_type": "markdown",
   "source": [
    "If desired, one can inspect `traj`, `env`, or `mppi` at each timestep."
   ],
   "metadata": {}
  },
  {
   "outputs": [],
   "cell_type": "code",
   "source": [
    "    end"
   ],
   "metadata": {},
   "execution_count": null
  },
  {
   "outputs": [],
   "cell_type": "markdown",
   "source": [
    "Save our experiment results to a file for later review."
   ],
   "metadata": {}
  },
  {
   "outputs": [],
   "cell_type": "code",
   "source": [
    "    savepath = \"/tmp/opt_humanoid.jlso\"\n",
    "    exper = Experiment(savepath, overwrite = true)\n",
    "    exper[:etype] = etype\n",
    "\n",
    "    for (k, v) in pairs(iter.trajectory)\n",
    "        exper[k] = v\n",
    "    end\n",
    "    finish!(exper)\n",
    "\n",
    "    return mppi, iter\n",
    "end\n",
    "\n",
    "m, d = hmMPPI()"
   ],
   "metadata": {},
   "execution_count": null
  },
  {
   "outputs": [],
   "cell_type": "markdown",
   "source": [
    "The MPPI algorithm, and any that you develop, can and should use plotting tools\n",
    "to track progress as they go. If one wanted to review the results after training,\n",
    "or prepare plots for presentations, one can load the data from disk instead."
   ],
   "metadata": {}
  },
  {
   "outputs": [],
   "cell_type": "code",
   "source": [
    "x = JLSO.load(\"/tmp/opt_humanoid.jlso\")\n",
    "plot!(\n",
    "    plot(d.trajectory.rewards, label = \"Inst. Reward\", title = \"Humanoid Standup\"),\n",
    "    d.trajectory.evaluations,\n",
    "    label = \"Evaluation\",\n",
    ")"
   ],
   "metadata": {},
   "execution_count": null
  },
  {
   "outputs": [],
   "cell_type": "markdown",
   "source": [
    "---\n",
    "\n",
    "*This notebook was generated using [Literate.jl](https://github.com/fredrikekre/Literate.jl).*"
   ],
   "metadata": {}
  }
 ],
 "nbformat_minor": 3,
 "metadata": {
  "language_info": {
   "file_extension": ".jl",
   "mimetype": "application/julia",
   "name": "julia",
   "version": "1.3.0"
  },
  "kernelspec": {
   "name": "julia-1.3",
   "display_name": "Julia 1.3.0",
   "language": "julia"
  }
 },
 "nbformat": 4
}
