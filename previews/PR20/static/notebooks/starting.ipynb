{
 "cells": [
  {
   "outputs": [],
   "cell_type": "markdown",
   "source": [
    "## Initial Setup"
   ],
   "metadata": {}
  },
  {
   "outputs": [],
   "cell_type": "markdown",
   "source": [
    "Julia can be downloaded for (Windows, Mac, and Linux)[https://julialang.org/downloads/]. We recommend the newest version."
   ],
   "metadata": {}
  },
  {
   "outputs": [],
   "cell_type": "markdown",
   "source": [
    "All Lyceum packages are currently tracked by it's own registry: (LyceumRegistry)[https://github.com/Lyceum/LyceumRegistry]. This is added first, before adding additional packages from the ecosystem. A 'Getting Started'\n",
    "guide to Julia's built in package management can be found (here)[https://julialang.github.io/Pkg.jl/v1/getting-started/]. We highly recommend that projects are organized through the Project/Manifest.toml system of Julia that tracks dependencies.\n",
    "The following is an example of activating a new Julia project, adding Lyceum to its dependencies, and precompiling its packages."
   ],
   "metadata": {}
  },
  {
   "outputs": [],
   "cell_type": "markdown",
   "source": [
    "TODO TODO TODO update lyceum reg to not need to check out lyceum#master ????\n",
    "and double check all this process because the shit seems super broken (wont precompile, even with lyceum#master)"
   ],
   "metadata": {}
  },
  {
   "outputs": [],
   "cell_type": "markdown",
   "source": [
    "At this point we can add the individual Lyceum packages, and begin using them. The examples from this site can now be run."
   ],
   "metadata": {}
  },
  {
   "outputs": [],
   "cell_type": "markdown",
   "source": [
    "## MuJoCo"
   ],
   "metadata": {}
  },
  {
   "outputs": [],
   "cell_type": "markdown",
   "source": [
    "(MuJoCo)[http://mujoco.org/] is a physics simulator designed for multi-joint dynamics with contacts, and has\n",
    "become a standard in robotics, reinforcement learning, and trajectory optimization experiments in both academia\n",
    "and industry. Currently the abstract environment API of `LyceumBase` is implemented in `LyceumMuJoCo` utilizing\n",
    "a thin (MuJoCo wrapper)[https://github.com/Lyceum/MuJoCo.jl]. This allows for zero overhead access to all of\n",
    "(MuJoCos features)[http://mujoco.org/image/home/mujocodemo.mp4]."
   ],
   "metadata": {}
  },
  {
   "outputs": [],
   "cell_type": "markdown",
   "source": [
    "We note this here as to use MuJoCo one needs to expose an environment variable, `MUJOCO_KEY_PATH` for the software\n",
    "to detect the license key file."
   ],
   "metadata": {}
  },
  {
   "outputs": [],
   "cell_type": "code",
   "source": [
    "```bash\n",
    "[host]:~/ > export MUJOCO_KEY_PATH=/home/$user/.mujoco/key.txt # replace with appropriate directory\n",
    "```"
   ],
   "metadata": {},
   "execution_count": null
  },
  {
   "outputs": [],
   "cell_type": "markdown",
   "source": [
    "We encourage other instantiations of the LyceumBase API with other physics engines, but only MuJoCo is\n",
    "currently supported."
   ],
   "metadata": {}
  },
  {
   "outputs": [],
   "cell_type": "markdown",
   "source": [
    "---\n",
    "\n",
    "*This notebook was generated using [Literate.jl](https://github.com/fredrikekre/Literate.jl).*"
   ],
   "metadata": {}
  }
 ],
 "nbformat_minor": 3,
 "metadata": {
  "language_info": {
   "file_extension": ".jl",
   "mimetype": "application/julia",
   "name": "julia",
   "version": "1.3.0"
  },
  "kernelspec": {
   "name": "julia-1.3",
   "display_name": "Julia 1.3.0",
   "language": "julia"
  }
 },
 "nbformat": 4
}
