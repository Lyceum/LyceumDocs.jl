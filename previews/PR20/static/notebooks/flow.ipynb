{
 "cells": [
  {
   "outputs": [],
   "cell_type": "markdown",
   "source": [
    "## Overview"
   ],
   "metadata": {}
  },
  {
   "outputs": [],
   "cell_type": "markdown",
   "source": [
    "The official Julia docs has (workflow-tips)[https://docs.julialang.org/en/v1/manual/workflow-tips/]\n",
    "that are important to review. Additional important details for newcomers to Julia\n",
    "are the (style guide)[https://docs.julialang.org/en/v1/manual/style-guide/] and the list of\n",
    "(noteworthy differences)[https://docs.julialang.org/en/v1/manual/noteworthy-differences/] from other languges."
   ],
   "metadata": {}
  },
  {
   "outputs": [],
   "cell_type": "markdown",
   "source": [
    "## Lyceum Specifics"
   ],
   "metadata": {}
  },
  {
   "outputs": [],
   "cell_type": "markdown",
   "source": [
    "Lyceum has been designed to facilitate development of control and reinforcement learning\n",
    "algorithms and to deploy results on robotic systems, and more. Workflow for these processes\n",
    "involve the management of interaction between an environment (the system model and reward function)\n",
    "and a desired algorithm. By using the REPL, controlling this interaction is as simple as editing\n",
    "a file of code, `include`ing it in the REPL, and running an associated function.\n",
    "For a simple example, lets assume there are two files, `myalgo.jl` and `myenv.jl` where a new algorithm and\n",
    "environment are instantiated, and `myalgo.jl` designates a function `testalgo()`"
   ],
   "metadata": {}
  },
  {
   "outputs": [],
   "cell_type": "code",
   "source": [
    "#```julia\n",
    "#include(\"myalgo.jl\") # reloads the file and any recent changes, ie parameters\n",
    "#include(\"myenv.jl\")  # reloads the environment\n",
    "#testalgo()\n",
    "#```"
   ],
   "metadata": {},
   "execution_count": null
  },
  {
   "outputs": [],
   "cell_type": "markdown",
   "source": [
    "One may refer to LyceumAI.jl/src/algorithms/MPPI.jl and environment file provided by LyceumMuJoCo.jl for examples."
   ],
   "metadata": {}
  },
  {
   "outputs": [],
   "cell_type": "markdown",
   "source": [
    "While straight forward, this process the caveat that redefining `struct`s is not allowed by Julia.\n",
    "As noted in the Julia workflow tips, one can also do `using Revise` before loading any code,\n",
    "which dynamically tracks when loaded modules' files are edited, dynamically recompiling the\n",
    "associated functions. As code grows in complexity, it is wise to organize ones code into modules."
   ],
   "metadata": {}
  },
  {
   "outputs": [],
   "cell_type": "markdown",
   "source": [
    "---\n",
    "\n",
    "*This notebook was generated using [Literate.jl](https://github.com/fredrikekre/Literate.jl).*"
   ],
   "metadata": {}
  }
 ],
 "nbformat_minor": 3,
 "metadata": {
  "language_info": {
   "file_extension": ".jl",
   "mimetype": "application/julia",
   "name": "julia",
   "version": "1.3.0"
  },
  "kernelspec": {
   "name": "julia-1.3",
   "display_name": "Julia 1.3.0",
   "language": "julia"
  }
 },
 "nbformat": 4
}
