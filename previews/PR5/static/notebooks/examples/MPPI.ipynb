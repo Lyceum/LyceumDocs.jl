{
 "cells": [
  {
   "outputs": [],
   "cell_type": "markdown",
   "source": [
    "!!! note \"Running examples locally\"\n    This example and more are also available as Julia scripts and Jupyter notebooks.\n\n    See [the how-to page](example_howto.md) for more information.\n\n# Running a simple controller\n\nIn this example we walk through the process of setting up an experiment\n",
    "!!! note \"Running examples locally\"\n    This example and more are also available as Julia scripts and Jupyter notebooks.\n\n    See [the how-to page](example_howto.md) for more information.\n\n# Running a simple controller\n\nthat runs [Model-Predictive Path Integral Control](https://ieeexplore.ieee.org/iel7/7478842/7487087/07487277.pdf),\n",
    "!!! note \"Running examples locally\"\n    This example and more are also available as Julia scripts and Jupyter notebooks.\n\n    See [the how-to page](example_howto.md) for more information.\n\n# Running a simple controller\n\nor \"MPPI\", a Model-Predictive Control method, on a simple PointMass environment."
   ],
   "metadata": {}
  },
  {
   "outputs": [],
   "cell_type": "markdown",
   "source": [
    "!!! note \"Running examples locally\"\n    This example and more are also available as Julia scripts and Jupyter notebooks.\n\n    See [the how-to page](example_howto.md) for more information.\n\n# Running a simple controller\n\nFirst, let's go head and grab all the dependencies"
   ],
   "metadata": {}
  },
  {
   "outputs": [],
   "cell_type": "code",
   "source": [
    "!!! note \"Running examples locally\"\n    This example and more are also available as Julia scripts and Jupyter notebooks.\n\n    See [the how-to page](example_howto.md) for more information.\n\n# Running a simple controller\n\nusing LinearAlgebra, Random, Statistics # From Stdlib\n",
    "!!! note \"Running examples locally\"\n    This example and more are also available as Julia scripts and Jupyter notebooks.\n\n    See [the how-to page](example_howto.md) for more information.\n\n# Running a simple controller\n\nusing LyceumAI # For the MPPI controller\n",
    "!!! note \"Running examples locally\"\n    This example and more are also available as Julia scripts and Jupyter notebooks.\n\n    See [the how-to page](example_howto.md) for more information.\n\n# Running a simple controller\n\nusing LyceumMuJoCo # For the PointMass environment\n",
    "!!! note \"Running examples locally\"\n    This example and more are also available as Julia scripts and Jupyter notebooks.\n\n    See [the how-to page](example_howto.md) for more information.\n\n# Running a simple controller\n\nusing LyceumBase.Tools # For the ControllerIterator discussed below\n",
    "!!! note \"Running examples locally\"\n    This example and more are also available as Julia scripts and Jupyter notebooks.\n\n    See [the how-to page](example_howto.md) for more information.\n\n# Running a simple controller\n\nusing Plots"
   ],
   "metadata": {},
   "execution_count": null
  },
  {
   "outputs": [],
   "cell_type": "markdown",
   "source": [
    "!!! note \"Running examples locally\"\n    This example and more are also available as Julia scripts and Jupyter notebooks.\n\n    See [the how-to page](example_howto.md) for more information.\n\n# Running a simple controller\n\n**TODO LINK REF**\n",
    "!!! note \"Running examples locally\"\n    This example and more are also available as Julia scripts and Jupyter notebooks.\n\n    See [the how-to page](example_howto.md) for more information.\n\n# Running a simple controller\n\nNext, we'll define an `Experiment` which we'll use to log the trajectory\n",
    "!!! note \"Running examples locally\"\n    This example and more are also available as Julia scripts and Jupyter notebooks.\n\n    See [the how-to page](example_howto.md) for more information.\n\n# Running a simple controller\n\nexecuted by our controller and save the results to \"/tmp/pointmass.jlso\"."
   ],
   "metadata": {}
  },
  {
   "outputs": [],
   "cell_type": "code",
   "source": [
    "!!! note \"Running examples locally\"\n    This example and more are also available as Julia scripts and Jupyter notebooks.\n\n    See [the how-to page](example_howto.md) for more information.\n\n# Running a simple controller\n\nexper = Experiment(\"/tmp/pointmass.jlso\", overwrite=true);"
   ],
   "metadata": {},
   "execution_count": null
  },
  {
   "outputs": [],
   "cell_type": "markdown",
   "source": [
    "!!! note \"Running examples locally\"\n    This example and more are also available as Julia scripts and Jupyter notebooks.\n\n    See [the how-to page](example_howto.md) for more information.\n\n# Running a simple controller\n\nThen we configure and instantiate of our `PointMass` environment\n",
    "!!! note \"Running examples locally\"\n    This example and more are also available as Julia scripts and Jupyter notebooks.\n\n    See [the how-to page](example_howto.md) for more information.\n\n# Running a simple controller\n\nand `MPPI` controller. See the documention for `MPPI` to learn more\n",
    "!!! note \"Running examples locally\"\n    This example and more are also available as Julia scripts and Jupyter notebooks.\n\n    See [the how-to page](example_howto.md) for more information.\n\n# Running a simple controller\n\nabout its parameters. **TODO LINK REF**"
   ],
   "metadata": {}
  },
  {
   "outputs": [],
   "cell_type": "code",
   "source": [
    "!!! note \"Running examples locally\"\n    This example and more are also available as Julia scripts and Jupyter notebooks.\n\n    See [the how-to page](example_howto.md) for more information.\n\n# Running a simple controller\n\nenv = LyceumMuJoCo.PointMass();\n",
    "!!! note \"Running examples locally\"\n    This example and more are also available as Julia scripts and Jupyter notebooks.\n\n    See [the how-to page](example_howto.md) for more information.\n\n# Running a simple controller\n\nmppi = MPPI(\n",
    "!!! note \"Running examples locally\"\n    This example and more are also available as Julia scripts and Jupyter notebooks.\n\n    See [the how-to page](example_howto.md) for more information.\n\n# Running a simple controller\n\n    sharedmemory_envctor = (i)->sharedmemory_envs(LyceumMuJoCo.PointMass, i),\n",
    "!!! note \"Running examples locally\"\n    This example and more are also available as Julia scripts and Jupyter notebooks.\n\n    See [the how-to page](example_howto.md) for more information.\n\n# Running a simple controller\n\n    covar0 = Diagonal(0.001^2*I, size(actionspace(env), 1)),\n",
    "!!! note \"Running examples locally\"\n    This example and more are also available as Julia scripts and Jupyter notebooks.\n\n    See [the how-to page](example_howto.md) for more information.\n\n# Running a simple controller\n\n    lambda = 0.005,\n",
    "!!! note \"Running examples locally\"\n    This example and more are also available as Julia scripts and Jupyter notebooks.\n\n    See [the how-to page](example_howto.md) for more information.\n\n# Running a simple controller\n\n    K =  32,\n",
    "!!! note \"Running examples locally\"\n    This example and more are also available as Julia scripts and Jupyter notebooks.\n\n    See [the how-to page](example_howto.md) for more information.\n\n# Running a simple controller\n\n    H = 25,\n",
    "!!! note \"Running examples locally\"\n    This example and more are also available as Julia scripts and Jupyter notebooks.\n\n    See [the how-to page](example_howto.md) for more information.\n\n# Running a simple controller\n\n    gamma = 0.99\n",
    "!!! note \"Running examples locally\"\n    This example and more are also available as Julia scripts and Jupyter notebooks.\n\n    See [the how-to page](example_howto.md) for more information.\n\n# Running a simple controller\n\n);"
   ],
   "metadata": {},
   "execution_count": null
  },
  {
   "outputs": [],
   "cell_type": "markdown",
   "source": [
    "!!! note \"Running examples locally\"\n    This example and more are also available as Julia scripts and Jupyter notebooks.\n\n    See [the how-to page](example_howto.md) for more information.\n\n# Running a simple controller\n\nFinally, let's rollout our controller for 1000 timesteps.\n",
    "!!! note \"Running examples locally\"\n    This example and more are also available as Julia scripts and Jupyter notebooks.\n\n    See [the how-to page](example_howto.md) for more information.\n\n# Running a simple controller\n\nAs discused in the algorithms section **TODO LINK REF**, `AbstractController`'s are\n",
    "!!! note \"Running examples locally\"\n    This example and more are also available as Julia scripts and Jupyter notebooks.\n\n    See [the how-to page](example_howto.md) for more information.\n\n# Running a simple controller\n\nby themselves not iterable, so we wrap them in a `ControllerIterator`\n",
    "!!! note \"Running examples locally\"\n    This example and more are also available as Julia scripts and Jupyter notebooks.\n\n    See [the how-to page](example_howto.md) for more information.\n\n# Running a simple controller\n\nwhich will apply the controls generated by `MPPI` to the environment\n",
    "!!! note \"Running examples locally\"\n    This example and more are also available as Julia scripts and Jupyter notebooks.\n\n    See [the how-to page](example_howto.md) for more information.\n\n# Running a simple controller\n\nat each timestep. We'll also plot the progress so far to the terminal\n",
    "!!! note \"Running examples locally\"\n    This example and more are also available as Julia scripts and Jupyter notebooks.\n\n    See [the how-to page](example_howto.md) for more information.\n\n# Running a simple controller\n\nevery 100 timesteps."
   ],
   "metadata": {}
  },
  {
   "outputs": [],
   "cell_type": "code",
   "source": [
    "!!! note \"Running examples locally\"\n    This example and more are also available as Julia scripts and Jupyter notebooks.\n\n    See [the how-to page](example_howto.md) for more information.\n\n# Running a simple controller\n\niter = ControllerIterator(mppi, env; T=1000, plotiter=100);\n",
    "!!! note \"Running examples locally\"\n    This example and more are also available as Julia scripts and Jupyter notebooks.\n\n    See [the how-to page](example_howto.md) for more information.\n\n# Running a simple controller\n\nfor (t, traj) in iter\n",
    "!!! note \"Running examples locally\"\n    This example and more are also available as Julia scripts and Jupyter notebooks.\n\n    See [the how-to page](example_howto.md) for more information.\n\n# Running a simple controller\n\nend"
   ],
   "metadata": {},
   "execution_count": null
  },
  {
   "outputs": [],
   "cell_type": "markdown",
   "source": [
    "!!! note \"Running examples locally\"\n    This example and more are also available as Julia scripts and Jupyter notebooks.\n\n    See [the how-to page](example_howto.md) for more information.\n\n# Running a simple controller\n\nLet's go ahead and plot the final reward trajectory and see how we did:"
   ],
   "metadata": {}
  },
  {
   "outputs": [],
   "cell_type": "code",
   "source": [
    "!!! note \"Running examples locally\"\n    This example and more are also available as Julia scripts and Jupyter notebooks.\n\n    See [the how-to page](example_howto.md) for more information.\n\n# Running a simple controller\n\nplot(iter.trajectory.rewards)"
   ],
   "metadata": {},
   "execution_count": null
  },
  {
   "outputs": [],
   "cell_type": "markdown",
   "source": [
    "!!! note \"Running examples locally\"\n    This example and more are also available as Julia scripts and Jupyter notebooks.\n\n    See [the how-to page](example_howto.md) for more information.\n\n# Running a simple controller\n\nand save the results:"
   ],
   "metadata": {}
  },
  {
   "outputs": [],
   "cell_type": "code",
   "source": [
    "!!! note \"Running examples locally\"\n    This example and more are also available as Julia scripts and Jupyter notebooks.\n\n    See [the how-to page](example_howto.md) for more information.\n\n# Running a simple controller\n\nfor (k, v) in pairs(iter.trajectory)\n",
    "!!! note \"Running examples locally\"\n    This example and more are also available as Julia scripts and Jupyter notebooks.\n\n    See [the how-to page](example_howto.md) for more information.\n\n# Running a simple controller\n\n    exper[k] = v\n",
    "!!! note \"Running examples locally\"\n    This example and more are also available as Julia scripts and Jupyter notebooks.\n\n    See [the how-to page](example_howto.md) for more information.\n\n# Running a simple controller\n\nend\n",
    "!!! note \"Running examples locally\"\n    This example and more are also available as Julia scripts and Jupyter notebooks.\n\n    See [the how-to page](example_howto.md) for more information.\n\n# Running a simple controller\n\nfinish!(exper);"
   ],
   "metadata": {},
   "execution_count": null
  },
  {
   "outputs": [],
   "cell_type": "markdown",
   "source": [
    "!!! note \"Running examples locally\"\n    This example and more are also available as Julia scripts and Jupyter notebooks.\n\n    See [the how-to page](example_howto.md) for more information.\n\n# Running a simple controller\n\n---\n",
    "!!! note \"Running examples locally\"\n    This example and more are also available as Julia scripts and Jupyter notebooks.\n\n    See [the how-to page](example_howto.md) for more information.\n\n# Running a simple controller\n\n\n",
    "!!! note \"Running examples locally\"\n    This example and more are also available as Julia scripts and Jupyter notebooks.\n\n    See [the how-to page](example_howto.md) for more information.\n\n# Running a simple controller\n\n*This notebook was generated using [Literate.jl](https://github.com/fredrikekre/Literate.jl).*"
   ],
   "metadata": {}
  }
 ],
 "nbformat_minor": 3,
 "metadata": {
  "language_info": {
   "file_extension": ".jl",
   "mimetype": "application/julia",
   "name": "julia",
   "version": "1.3.0"
  },
  "kernelspec": {
   "name": "julia-1.3",
   "display_name": "Julia 1.3.0",
   "language": "julia"
  }
 },
 "nbformat": 4
}
