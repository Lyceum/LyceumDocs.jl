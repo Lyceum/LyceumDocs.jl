{
 "cells": [
  {
   "outputs": [],
   "cell_type": "markdown",
   "source": [
    "In this example, we walk through how to use LyceumMuJoCoViz.jl to playback saved\n",
    "trajectories and interact with a saved policy in real time using\n",
    "the policy we learned in the \"Learning a control policy\" example."
   ],
   "metadata": {}
  },
  {
   "outputs": [],
   "cell_type": "markdown",
   "source": [
    "First, let's go head and grab all the dependencies:"
   ],
   "metadata": {}
  },
  {
   "outputs": [],
   "cell_type": "code",
   "source": [
    "using LyceumAI         # For `NaturalPolicyGradient` and `DiagGaussianPolicy`\n",
    "using Shapes           # For the `allocate` function\n",
    "using LyceumMuJoCo     # For the HopperV2 environment\n",
    "using LyceumMuJoCoViz  # For the visualizer itself\n",
    "using FastClosures     # For helping avoid performance issues with closures, discussed below\n",
    "using JLSO             # For loading saved data"
   ],
   "metadata": {},
   "execution_count": null
  },
  {
   "outputs": [],
   "cell_type": "markdown",
   "source": [
    "Here we demonstrate two modes of visualizing results of an algorithm like\n",
    "`NaturalPolicyGradient` or `MPPI` from `LyceumAI`: playing back saved trajectories and\n",
    "interacting with a policy or controller in real time. For the former, we need only pass\n",
    "to the `visualize` function our saved trajectories as a vector of matricies, where each\n",
    "element of the vector is a matrix of size `(length(statespace(env)), T)`, where `T` is\n",
    "the length the trajectory. Note that each trajectory can be of a different length.\n",
    "For the latter, we pass a control callback to `visualize` that will be called each\n",
    "time `step!(env)` is called."
   ],
   "metadata": {}
  },
  {
   "outputs": [],
   "cell_type": "code",
   "source": [
    "function viz_hopper_NPG()\n",
    "    # Load our experiment results\n",
    "    x = JLSO.load(\"/tmp/hopper_example.jlso\")\n",
    "\n",
    "    env = LyceumMuJoCo.HopperV2()\n",
    "\n",
    "    # Load the states from our saved trajectory, as well as the learned policy.\n",
    "    states = x[\"stocstates\"].states\n",
    "    pol = x[\"policy\"]\n",
    "\n",
    "    # Allocate some buffers for our control callback.\n",
    "    a = allocate(actionspace(env))\n",
    "    o = allocate(obsspace(env))\n",
    "\n",
    "    # As discussed in the Julia performance tips, captured variables\n",
    "    # (e.g. in a closure) can sometimes hinder performance. To help with that,\n",
    "    # we use `let` blocks as suggested.\n",
    "    ctrlfn = let o = o, a = a, pol = pol\n",
    "        function (env)\n",
    "            getobs!(o, env)\n",
    "            a .= pol(o)\n",
    "            setaction!(env, a)\n",
    "        end\n",
    "    end\n",
    "\n",
    "    visualize(env, controller = ctrlfn, trajectories = states)\n",
    "end"
   ],
   "metadata": {},
   "execution_count": null
  },
  {
   "outputs": [],
   "cell_type": "markdown",
   "source": [
    "Now just call the function to see the visualizer appear!"
   ],
   "metadata": {}
  },
  {
   "outputs": [],
   "cell_type": "code",
   "source": [
    "viz_hopper_NPG()"
   ],
   "metadata": {},
   "execution_count": null
  },
  {
   "outputs": [],
   "cell_type": "markdown",
   "source": [
    "---\n",
    "\n",
    "*This notebook was generated using [Literate.jl](https://github.com/fredrikekre/Literate.jl).*"
   ],
   "metadata": {}
  }
 ],
 "nbformat_minor": 3,
 "metadata": {
  "language_info": {
   "file_extension": ".jl",
   "mimetype": "application/julia",
   "name": "julia",
   "version": "1.3.0"
  },
  "kernelspec": {
   "name": "julia-1.3",
   "display_name": "Julia 1.3.0",
   "language": "julia"
  }
 },
 "nbformat": 4
}
